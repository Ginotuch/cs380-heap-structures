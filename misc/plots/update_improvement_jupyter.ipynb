{
 "cells": [
  {
   "cell_type": "code",
   "execution_count": 2,
   "metadata": {
    "collapsed": true,
    "pycharm": {
     "is_executing": false
    }
   },
   "outputs": [],
   "source": [
    "import time\n",
    "import os\n",
    "import psutil\n",
    "\n",
    "from typing import List, Dict\n",
    "\n",
    "import matplotlib\n",
    "import matplotlib.pyplot as plt\n",
    "\n",
    "from heaps.wrappers import HeapWrapper, HeapQueueWrapped, HeapqWrapped\n",
    "\n"
   ]
  },
  {
   "cell_type": "code",
   "execution_count": 3,
   "outputs": [],
   "source": [
    "matplotlib.use(\"pgf\")\n",
    "matplotlib.rcParams.update({\n",
    "    \"pgf.texsystem\": \"pdflatex\",\n",
    "    'font.family': 'serif',\n",
    "    'text.usetex': True,\n",
    "    'pgf.rcfonts': False,\n",
    "})"
   ],
   "metadata": {
    "collapsed": false,
    "pycharm": {
     "name": "#%%\n",
     "is_executing": false
    }
   }
  },
  {
   "cell_type": "markdown",
   "source": [
    "update_improvement\n",
    " "
   ],
   "metadata": {
    "collapsed": false
   }
  },
  {
   "cell_type": "code",
   "execution_count": 4,
   "outputs": [],
   "source": [
    "def f() -> List[HeapWrapper]:\n",
    "    return [\n",
    "        HeapQueueWrapped(name=\"HeapQueue\"),\n",
    "        HeapQueueWrapped(name=\"HeapQueue with duplicates\", duplicates=True),\n",
    "        HeapqWrapped(name=\"Heapq\")\n",
    "    ]"
   ],
   "metadata": {
    "collapsed": false,
    "pycharm": {
     "name": "#%%\n",
     "is_executing": false
    }
   }
  },
  {
   "cell_type": "code",
   "execution_count": 5,
   "outputs": [],
   "source": [
    "def mem():\n",
    "    process = psutil.Process(os.getpid())\n",
    "    return round(process.memory_info().rss * 1e-6, 2)"
   ],
   "metadata": {
    "collapsed": false,
    "pycharm": {
     "name": "#%%\n",
     "is_executing": false
    }
   }
  },
  {
   "cell_type": "code",
   "execution_count": 6,
   "outputs": [
    {
     "name": "stdout",
     "text": [
      "Before anything 84.92 \n",
      "\n",
      "Done\n"
     ],
     "output_type": "stream"
    }
   ],
   "source": [
    "data: Dict[str, Dict[str, List[int]]] = {}\n",
    "#  {\n",
    "#   heap_type: {\n",
    "#           ram or time: {\n",
    "#                       [int, int, int, ..., int]  # for each power\n",
    "#                      }\n",
    "#          }\n",
    "#   }\n",
    "\n",
    "print(\"Before anything\", mem(), \"\\n\")\n",
    "\n",
    "node_key = 0\n",
    "\n",
    "for power in range(1, 6 + 1):\n",
    "    updates: int = 10 ** power\n",
    "    # print()\n",
    "    # print(\"=\" * 15)\n",
    "    # print(\"Updates: 10^{:d}\".format(power))\n",
    "    # print(\"=\" * 15)\n",
    "    for heap_i, heap in enumerate((heaps := f())):\n",
    "        if heap.name not in data:\n",
    "            data[heap.name] = {\"ram\":[], \"time\":[]}\n",
    "        start_ram: int = mem()\n",
    "        start_time = time.time()\n",
    "        # print(\"Starting {} \\ncurrent {}\".format(heap.name, mem()))\n",
    "        heap.push(0.5, node_key)\n",
    "        for x in range(updates, 0, -1):\n",
    "            heap.push(x, node_key)\n",
    "        end_time: int = time.time() - start_time\n",
    "        total_ram: int = mem() - start_ram\n",
    "        data[heap.name][\"ram\"].append(total_ram)\n",
    "        data[heap.name][\"time\"].append(end_time)\n",
    "        # print(\" Heap size:\", heap.size())\n",
    "        # print(\" Time taken:\", str(round(time.time() - t, 2)) + \"s\")\n",
    "        # print(\" After\", heap.name, mem(), \"\\n\")\n",
    "        heap.peek()  # avoid garbage collector before memory check\n",
    "        heaps[heap_i] = None  # induce garbage collector to clear memory\n",
    "print(\"Done\")"
   ],
   "metadata": {
    "collapsed": false,
    "pycharm": {
     "name": "#%%\n",
     "is_executing": false
    }
   }
  },
  {
   "cell_type": "code",
   "execution_count": 16,
   "outputs": [],
   "source": [
    "power_text = ['$10^{' + str(x) + '}$' for x in range(1, 6 + 1)]"
   ],
   "metadata": {
    "collapsed": false,
    "pycharm": {
     "name": "#%%\n",
     "is_executing": false
    }
   }
  },
  {
   "cell_type": "code",
   "execution_count": 17,
   "outputs": [
    {
     "name": "stderr",
     "text": [
      "<ipython-input-17-6e54bb916a54>:11: UserWarning: Matplotlib is currently using pgf, which is a non-GUI backend, so cannot show the figure.\n",
      "  plt.show()\n"
     ],
     "output_type": "stream"
    }
   ],
   "source": [
    "plt.subplots(figsize=(4,3.5))\n",
    "plt.title('Ram usage')\n",
    "plt.xlabel('Update count')\n",
    "plt.ylabel('RAM in MegaBytes')\n",
    "plt.plot(power_text, data[\"HeapQueue\"][\"ram\"], label=\"HeapQueue\", linewidth=4, marker='o', markersize=7, markerfacecolor='black')\n",
    "plt.plot(power_text, data[\"HeapQueue with duplicates\"][\"ram\"], label=\"HeapQueue with duplicates\", linewidth=4, marker='o', markersize=7, markerfacecolor='black')\n",
    "plt.plot(power_text, data[\"Heapq\"][\"ram\"], label=\"Heapq\", linewidth=4, marker='o', markersize=7, markerfacecolor='black')\n",
    "\n",
    "plt.grid()\n",
    "plt.legend()\n",
    "plt.show()\n",
    "plt.savefig('ramusage.pgf')\n"
   ],
   "metadata": {
    "collapsed": false,
    "pycharm": {
     "name": "#%%\n",
     "is_executing": false
    }
   }
  },
  {
   "cell_type": "code",
   "execution_count": 18,
   "outputs": [
    {
     "name": "stderr",
     "text": [
      "<ipython-input-18-c14d64842f82>:11: UserWarning: Matplotlib is currently using pgf, which is a non-GUI backend, so cannot show the figure.\n",
      "  plt.show()\n"
     ],
     "output_type": "stream"
    }
   ],
   "source": [
    "plt.subplots(figsize=(3.2,3.5))\n",
    "plt.title('Time Taken')\n",
    "plt.xlabel('Update count')\n",
    "plt.ylabel('Time in seconds')\n",
    "plt.plot(power_text, data[\"HeapQueue\"][\"time\"], label=\"HeapQueue\", linewidth=4, marker='o', markersize=7, markerfacecolor='black')\n",
    "plt.plot(power_text, data[\"HeapQueue with duplicates\"][\"time\"], label=\"HeapQueue with duplicates\", linewidth=4, marker='o', markersize=7, markerfacecolor='black')\n",
    "plt.plot(power_text, data[\"Heapq\"][\"time\"], label=\"Heapq\", linewidth=4, marker='o', markersize=7, markerfacecolor='black')\n",
    "\n",
    "plt.grid()\n",
    "plt.legend()\n",
    "plt.show()\n",
    "plt.savefig('timetaken.pgf')"
   ],
   "metadata": {
    "collapsed": false,
    "pycharm": {
     "name": "#%%\n",
     "is_executing": false
    }
   }
  },
  {
   "cell_type": "code",
   "execution_count": 10,
   "outputs": [],
   "source": [
    "# plt.subplots(figsize=(5,4))\n",
    "# plt.title('HeapifyDown loops after pop')\n",
    "# plt.xlabel('Input Size')\n",
    "# plt.ylabel('HeapifyDown loops')\n",
    "# plt.plot(power_text, data_formatted[\"Heapq\"][\"after\"][\"down\"], label=\"heapq\", linewidth=4, marker='o', markersize=7, markerfacecolor='black')\n",
    "# plt.plot(power_text, data_formatted[\"HeapQueue duplicates\"][\"after\"][\"down\"], label=\"HeapQueue\", linewidth=4, marker='o', markersize=7, markerfacecolor='black')\n",
    "# plt.yticks(range(0, 19, 2))\n",
    "# plt.grid()\n",
    "# plt.legend()\n",
    "# plt.show()\n",
    "# plt.savefig('test.pgf')\n"
   ],
   "metadata": {
    "collapsed": false,
    "pycharm": {
     "name": "#%%\n",
     "is_executing": false
    }
   }
  }
 ],
 "metadata": {
  "kernelspec": {
   "display_name": "Python 3",
   "language": "python",
   "name": "python3"
  },
  "language_info": {
   "codemirror_mode": {
    "name": "ipython",
    "version": 2
   },
   "file_extension": ".py",
   "mimetype": "text/x-python",
   "name": "python",
   "nbconvert_exporter": "python",
   "pygments_lexer": "ipython2",
   "version": "2.7.6"
  },
  "pycharm": {
   "stem_cell": {
    "cell_type": "raw",
    "source": [],
    "metadata": {
     "collapsed": false
    }
   }
  }
 },
 "nbformat": 4,
 "nbformat_minor": 0
}