{
 "cells": [
  {
   "cell_type": "code",
   "execution_count": 1,
   "metadata": {
    "collapsed": true,
    "pycharm": {
     "is_executing": false
    }
   },
   "outputs": [],
   "source": [
    "from typing import List, Dict\n",
    "\n",
    "import matplotlib\n",
    "import matplotlib.pyplot as plt\n",
    "\n",
    "import heapq2, myheapq, time, pickle\n",
    "\n"
   ]
  },
  {
   "cell_type": "code",
   "execution_count": 8,
   "outputs": [],
   "source": [
    "matplotlib.use(\"pgf\")\n",
    "matplotlib.rcParams.update({\n",
    "    \"pgf.texsystem\": \"pdflatex\",\n",
    "    'font.family': 'serif',\n",
    "    'text.usetex': True,\n",
    "    'pgf.rcfonts': False,\n",
    "})"
   ],
   "metadata": {
    "collapsed": false,
    "pycharm": {
     "name": "#%%\n",
     "is_executing": false
    }
   }
  },
  {
   "cell_type": "markdown",
   "source": [
    "update_improvement\n",
    " "
   ],
   "metadata": {
    "collapsed": false
   }
  },
  {
   "cell_type": "code",
   "execution_count": 2,
   "outputs": [
    {
     "name": "stdout",
     "text": [
      "power 2\n",
      "\n",
      "power 4\n",
      "\n",
      "power 6\n",
      "\n",
      "power 8\n",
      "\n",
      "power 10\n",
      "\n",
      "power 12\n",
      "\n",
      "power 14\n",
      "\n",
      "power 16\n",
      "\n",
      "power 18\n",
      "\n",
      "power 20\n",
      "\n",
      "power 22\n",
      "\n",
      "power 24\n",
      "\n"
     ],
     "output_type": "stream"
    }
   ],
   "source": [
    "data: Dict[str, List[int]] = {\"heapq\": [], \"myheapq\": []}\n",
    "\n",
    "for power in range(2, 24 + 2, 2):\n",
    "    print(\"power\", power)\n",
    "    with open(\"pik{}.data\".format(str(power)), \"rb\") as pin:\n",
    "        alist = pickle.load(pin)\n",
    "        t = time.time()\n",
    "        myheapq.heapify(alist)\n",
    "        data[\"myheapq\"].append(round(time.time() - t, 2))\n",
    "        alist[0] = 0\n",
    "    with open(\"pik{}.data\".format(str(power)), \"rb\") as pin:\n",
    "        alist = pickle.load(pin)\n",
    "        t = time.time()\n",
    "        heapq2.heapify(alist)\n",
    "        data[\"heapq\"].append(round(time.time() - t, 2))\n",
    "        alist[0] = 0\n",
    "    print()\n",
    "print(\"Done\")"
   ],
   "metadata": {
    "collapsed": false,
    "pycharm": {
     "name": "#%%\n",
     "is_executing": false
    }
   }
  },
  {
   "cell_type": "code",
   "execution_count": 3,
   "outputs": [],
   "source": [
    "power_text = ['$2^{' + str(x) + '}$' for x in range(2, 24 + 2, 2)]"
   ],
   "metadata": {
    "collapsed": false,
    "pycharm": {
     "name": "#%%\n",
     "is_executing": false
    }
   }
  },
  {
   "cell_type": "code",
   "execution_count": 9,
   "outputs": [
    {
     "name": "stderr",
     "text": [
      "<ipython-input-9-c4a35bef02b8>:10: UserWarning: Matplotlib is currently using pgf, which is a non-GUI backend, so cannot show the figure.\n",
      "  plt.show()\n"
     ],
     "output_type": "stream"
    },
    {
     "data": {
      "text/plain": "<Figure size 360x288 with 1 Axes>",
      "image/png": "[encoded data removed]"
     },
     "metadata": {
      "needs_background": "light"
     },
     "output_type": "display_data"
    }
   ],
   "source": [
    "plt.subplots(figsize=(5,4))\n",
    "plt.title('Heapify time')\n",
    "plt.xlabel('Input size')\n",
    "plt.ylabel('Time in seconds')\n",
    "plt.plot(power_text, data[\"myheapq\"], label=\"myheapq\", linewidth=4, marker='o', markersize=7, markerfacecolor='black')\n",
    "plt.plot(power_text, data[\"heapq\"], label=\"heapq\", linewidth=4, marker='o', markersize=7, markerfacecolor='black')\n",
    "\n",
    "plt.grid()\n",
    "plt.legend()\n",
    "plt.show()\n",
    "plt.savefig('heapifytime.pgf')\n"
   ],
   "metadata": {
    "collapsed": false,
    "pycharm": {
     "name": "#%%\n",
     "is_executing": false
    }
   }
  }
 ],
 "metadata": {
  "kernelspec": {
   "display_name": "Python 3",
   "language": "python",
   "name": "python3"
  },
  "language_info": {
   "codemirror_mode": {
    "name": "ipython",
    "version": 2
   },
   "file_extension": ".py",
   "mimetype": "text/x-python",
   "name": "python",
   "nbconvert_exporter": "python",
   "pygments_lexer": "ipython2",
   "version": "2.7.6"
  },
  "pycharm": {
   "stem_cell": {
    "cell_type": "raw",
    "source": [],
    "metadata": {
     "collapsed": false
    }
   }
  }
 },
 "nbformat": 4,
 "nbformat_minor": 0
}